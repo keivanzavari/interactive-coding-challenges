{
 "cells": [
  {
   "cell_type": "markdown",
   "metadata": {},
   "source": [
    "This notebook was prepared by [Donne Martin](https://github.com/donnemartin). Source and license info is on [GitHub](https://github.com/donnemartin/interactive-coding-challenges)."
   ]
  },
  {
   "cell_type": "markdown",
   "metadata": {},
   "source": [
    "# Challenge Notebook"
   ]
  },
  {
   "cell_type": "markdown",
   "metadata": {},
   "source": [
    "## Problem: Sort an array of strings so all anagrams are next to each other.\n",
    "\n",
    "* [Constraints](#Constraints)\n",
    "* [Test Cases](#Test-Cases)\n",
    "* [Algorithm](#Algorithm)\n",
    "* [Code](#Code)\n",
    "* [Unit Test](#Unit-Test)\n",
    "* [Solution Notebook](#Solution-Notebook)"
   ]
  },
  {
   "cell_type": "markdown",
   "metadata": {},
   "source": [
    "## Constraints\n",
    "\n",
    "* Are there any other sorting requirements other than the grouping of anagrams?\n",
    "    * No\n",
    "* Can we assume the inputs are valid?\n",
    "    * No\n",
    "* Can we assume this fits memory?\n",
    "    * Yes"
   ]
  },
  {
   "cell_type": "markdown",
   "metadata": {},
   "source": [
    "## Test Cases\n",
    "\n",
    "* None -> Exception\n",
    "* [] -> []\n",
    "* General case\n",
    "    * Input: ['ram', 'act', 'arm', 'bat', 'cat', 'tab']\n",
    "    * Result: ['arm', 'ram', 'act', 'cat', 'bat', 'tab']"
   ]
  },
  {
   "cell_type": "markdown",
   "metadata": {},
   "source": [
    "## Algorithm\n",
    "\n",
    "Refer to the [Solution Notebook](http://nbviewer.jupyter.org/github/donnemartin/interactive-coding-challenges/blob/master/sorting_searching/anagrams/anagrams_solution.ipynb).  If you are stuck and need a hint, the solution notebook's algorithm discussion might be a good place to start."
   ]
  },
  {
   "cell_type": "markdown",
   "metadata": {},
   "source": [
    "## Code"
   ]
  },
  {
   "cell_type": "code",
   "execution_count": 7,
   "metadata": {},
   "outputs": [
    {
     "output_type": "execute_result",
     "data": {
      "text/plain": [
       "['cat', 'act', 'bat', 'tab', 'pat']"
      ]
     },
     "metadata": {},
     "execution_count": 7
    }
   ],
   "source": [
    "from collections import OrderedDict\n",
    "\n",
    "\n",
    "class Anagram(object):\n",
    "\n",
    "    def are_anagrams(slef, str1, str2):\n",
    "        return sorted(str1) == sorted(str2)\n",
    "\n",
    "    def find_anagrams(self, items, target, start, end):\n",
    "        indices =[]\n",
    "        for i in range(start, end):\n",
    "            if self.are_anagrams(items[i], target):\n",
    "                indices.append(i)\n",
    "        return indices\n",
    "\n",
    "    def group_anagrams(self, items):\n",
    "        # go through the list\n",
    "        # take one element at index i\n",
    "        # find all the anagrams of the item after i\n",
    "        # place them after the current element\n",
    "        # advance by the number of items that we placed\n",
    "        # [11, 34, 33, 12, 55, 57]\n",
    "        # [11, [1:-1] -> 12] -> [11, 12]\n",
    "        #\n",
    "        if not items or items is None:\n",
    "            raise TypeError\n",
    "        idx = 0\n",
    "        res = []\n",
    "        while items:\n",
    "            to_drop = items.pop(idx)\n",
    "            res.append(to_drop)\n",
    "            \n",
    "            indices = self.find_anagrams(items, to_drop, 0, len(items))\n",
    "            \n",
    "            for i in indices:\n",
    "                res.append(items.pop(i))\n",
    "            \n",
    "        return res\n",
    "\n",
    "a = Anagram()\n",
    "items = [\"cat\", \"bat\", \"tab\", \"pat\", \"act\"]\n",
    "a.group_anagrams(items)"
   ]
  },
  {
   "cell_type": "markdown",
   "metadata": {},
   "source": [
    "## Unit Test"
   ]
  },
  {
   "cell_type": "markdown",
   "metadata": {},
   "source": [
    "**The following unit test is expected to fail until you solve the challenge.**"
   ]
  },
  {
   "cell_type": "code",
   "execution_count": 8,
   "metadata": {},
   "outputs": [
    {
     "output_type": "stream",
     "name": "stdout",
     "text": [
      "Success: test_group_anagrams\n"
     ]
    }
   ],
   "source": [
    "# %load test_anagrams.py\n",
    "import unittest\n",
    "\n",
    "\n",
    "class TestAnagrams(unittest.TestCase):\n",
    "\n",
    "    def test_group_anagrams(self):\n",
    "        anagram = Anagram()\n",
    "        self.assertRaises(TypeError, anagram.group_anagrams, None)\n",
    "        data = ['ram', 'act', 'arm', 'bat', 'cat', 'tab']\n",
    "        expected = ['ram', 'arm', 'act', 'cat', 'bat', 'tab']\n",
    "        self.assertEqual(anagram.group_anagrams(data), expected)\n",
    "\n",
    "        print('Success: test_group_anagrams')\n",
    "\n",
    "\n",
    "def main():\n",
    "    test = TestAnagrams()\n",
    "    test.test_group_anagrams()\n",
    "\n",
    "\n",
    "if __name__ == '__main__':\n",
    "    main()"
   ]
  },
  {
   "cell_type": "markdown",
   "metadata": {},
   "source": [
    "## Solution Notebook\n",
    "\n",
    "Review the [Solution Notebook]() for a discussion on algorithms and code solutions."
   ]
  }
 ],
 "metadata": {
  "kernelspec": {
   "display_name": "Python 3",
   "language": "python",
   "name": "python3"
  },
  "language_info": {
   "codemirror_mode": {
    "name": "ipython",
    "version": 3
   },
   "file_extension": ".py",
   "mimetype": "text/x-python",
   "name": "python",
   "nbconvert_exporter": "python",
   "pygments_lexer": "ipython3",
   "version": "3.6.9"
  }
 },
 "nbformat": 4,
 "nbformat_minor": 1
}