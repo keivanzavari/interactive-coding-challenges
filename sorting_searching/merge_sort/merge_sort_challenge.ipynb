{
 "cells": [
  {
   "cell_type": "markdown",
   "metadata": {},
   "source": [
    "This notebook was prepared by [Donne Martin](http://donnemartin.com). Source and license info is on [GitHub](https://github.com/donnemartin/interactive-coding-challenges)."
   ]
  },
  {
   "cell_type": "markdown",
   "metadata": {},
   "source": [
    "# Challenge Notebook"
   ]
  },
  {
   "cell_type": "markdown",
   "metadata": {},
   "source": [
    "## Problem: Implement merge sort.\n",
    "\n",
    "* [Constraints](#Constraints)\n",
    "* [Test Cases](#Test-Cases)\n",
    "* [Algorithm](#Algorithm)\n",
    "* [Code](#Code)\n",
    "* [Unit Test](#Unit-Test)\n",
    "* [Solution Notebook](#Solution-Notebook)"
   ]
  },
  {
   "cell_type": "markdown",
   "metadata": {},
   "source": [
    "## Constraints\n",
    "\n",
    "* Is a naive solution sufficient?\n",
    "    * Yes\n",
    "* Are duplicates allowed?\n",
    "    * Yes\n",
    "* Can we assume the input is valid?\n",
    "    * No\n",
    "* Can we assume this fits memory?\n",
    "    * Yes"
   ]
  },
  {
   "cell_type": "markdown",
   "metadata": {},
   "source": [
    "## Test Cases\n",
    "\n",
    "* None -> Exception\n",
    "* Empty input -> []\n",
    "* One element -> [element]\n",
    "* Two or more elements\n",
    "* Left and right subarrays of different lengths"
   ]
  },
  {
   "cell_type": "markdown",
   "metadata": {},
   "source": [
    "## Algorithm\n",
    "\n",
    "Refer to the [Solution Notebook](http://nbviewer.ipython.org/github/donnemartin/interactive-coding-challenges/blob/master/sorting_searching/merge_sort/merge_sort_solution.ipynb).  If you are stuck and need a hint, the solution notebook's algorithm discussion might be a good place to start."
   ]
  },
  {
   "cell_type": "markdown",
   "metadata": {},
   "source": [
    "## Code"
   ]
  },
  {
   "cell_type": "code",
   "execution_count": 14,
   "metadata": {},
   "outputs": [
    {
     "output_type": "execute_result",
     "data": {
      "text/plain": [
       "[]"
      ]
     },
     "metadata": {},
     "execution_count": 14
    }
   ],
   "source": [
    "class MergeSort(object):\n",
    "\n",
    "\n",
    "    def _merge(self, vec1:list, vec2: list) -> list:\n",
    "        idx1 = idx2 = 0\n",
    "        res = []\n",
    "        while idx1 < len(vec1) and idx2 < len(vec2):\n",
    "            if vec1[idx1] <= vec2[idx2]:\n",
    "                res.append(vec1[idx1])\n",
    "                idx1 += 1\n",
    "            else:\n",
    "                res.append(vec2[idx2])\n",
    "                idx2 += 1\n",
    "        to_add = []\n",
    "        if idx2 == len(vec2):\n",
    "            to_add = vec1[idx1:]\n",
    "        else:\n",
    "            to_add = vec2[idx2:]\n",
    "        res.extend(to_add)\n",
    "        return res\n",
    "\n",
    "    def _recursive_sort(self, data:list, begin: int, end: int) -> list:\n",
    "        if not data:\n",
    "            return []\n",
    "        if end-begin <= 1:\n",
    "            return [data[begin]]\n",
    "        \n",
    "        size = int((end-begin)/2)\n",
    "        vec1 = self._recursive_sort(data, begin, begin+size)\n",
    "        vec2 = self._recursive_sort(data, begin+size, end)\n",
    "        return self._merge(vec1, vec2)\n",
    "\n",
    "    def _bottomup_sort(self, data:list, begin: int, end: int) -> list:\n",
    "        for width in range(1, len(data)):\n",
    "            mid_res = []\n",
    "            for idx in range(0, len(data), width*2):\n",
    "                left = data[idx:min(idx+width, len(data))]\n",
    "                right = data[min(idx+width, len(data)): min(idx+2*width, len(data))]\n",
    "                res = self._merge(left, right)\n",
    "                mid_res.extend(res)\n",
    "            data = mid_res\n",
    "\n",
    "        return data\n",
    "\n",
    "    def sort(self, data):\n",
    "        if data is None:\n",
    "            raise TypeError\n",
    "        return self._bottomup_sort(data, 0, len(data))\n",
    "        \n",
    "m = MergeSort()\n",
    "m.sort([])"
   ]
  },
  {
   "cell_type": "markdown",
   "metadata": {},
   "source": [
    "## Unit Test\n",
    "\n",
    "\n",
    "\n",
    "**The following unit test is expected to fail until you solve the challenge.**"
   ]
  },
  {
   "cell_type": "code",
   "execution_count": 15,
   "metadata": {},
   "outputs": [
    {
     "output_type": "stream",
     "name": "stdout",
     "text": [
      "None input\nEmpty input\nOne element\nTwo or more elements\nSuccess: test_merge_sort\n"
     ]
    }
   ],
   "source": [
    "# %load test_merge_sort.py\n",
    "import unittest\n",
    "\n",
    "\n",
    "class TestMergeSort(unittest.TestCase):\n",
    "\n",
    "    def test_merge_sort(self):\n",
    "        merge_sort = MergeSort()\n",
    "\n",
    "        print('None input')\n",
    "        self.assertRaises(TypeError, merge_sort.sort, None)\n",
    "\n",
    "        print('Empty input')\n",
    "        self.assertEqual(merge_sort.sort([]), [])\n",
    "\n",
    "        print('One element')\n",
    "        self.assertEqual(merge_sort.sort([5]), [5])\n",
    "\n",
    "        print('Two or more elements')\n",
    "        data = [5, 1, 7, 2, 6, -3, 5, 7, -1]\n",
    "        self.assertEqual(merge_sort.sort(data), sorted(data))\n",
    "\n",
    "        print('Success: test_merge_sort')\n",
    "\n",
    "\n",
    "def main():\n",
    "    test = TestMergeSort()\n",
    "    test.test_merge_sort()\n",
    "\n",
    "\n",
    "if __name__ == '__main__':\n",
    "    main()"
   ]
  },
  {
   "cell_type": "markdown",
   "metadata": {},
   "source": [
    "## Solution Notebook\n",
    "\n",
    "Review the [Solution Notebook](http://nbviewer.ipython.org/github/donnemartin/interactive-coding-challenges/blob/master/sorting_searching/merge_sort/merge_sort_solution.ipynb) for a discussion on algorithms and code solutions."
   ]
  }
 ],
 "metadata": {
  "kernelspec": {
   "display_name": "Python 3",
   "language": "python",
   "name": "python3"
  },
  "language_info": {
   "codemirror_mode": {
    "name": "ipython",
    "version": 3
   },
   "file_extension": ".py",
   "mimetype": "text/x-python",
   "name": "python",
   "nbconvert_exporter": "python",
   "pygments_lexer": "ipython3",
   "version": "3.6.9"
  }
 },
 "nbformat": 4,
 "nbformat_minor": 1
}