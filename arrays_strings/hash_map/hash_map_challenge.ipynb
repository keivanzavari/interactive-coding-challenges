{
 "cells": [
  {
   "cell_type": "markdown",
   "metadata": {},
   "source": [
    "This notebook was prepared by [Donne Martin](http://donnemartin.com). Source and license info is on [GitHub](https://github.com/donnemartin/interactive-coding-challenges)."
   ]
  },
  {
   "cell_type": "markdown",
   "metadata": {},
   "source": [
    "# Challenge Notebook"
   ]
  },
  {
   "cell_type": "markdown",
   "metadata": {},
   "source": [
    "## Problem: Implement a hash table with set, get, and remove methods.\n",
    "\n",
    "* [Constraints](#Constraints)\n",
    "* [Test Cases](#Test-Cases)\n",
    "* [Algorithm](#Algorithm)\n",
    "* [Code](#Code)\n",
    "* [Unit Test](#Unit-Test)\n",
    "* [Solution Notebook](#Solution-Notebook)"
   ]
  },
  {
   "cell_type": "markdown",
   "metadata": {},
   "source": [
    "## Constraints\n",
    "\n",
    "* For simplicity, are the keys integers only?\n",
    "    * Yes\n",
    "* For collision resolution, can we use chaining?\n",
    "    * Yes\n",
    "* Do we have to worry about load factors?\n",
    "    * No\n",
    "* Do we have to validate inputs?\n",
    "    * No\n",
    "* Can we assume this fits memory?\n",
    "    * Yes"
   ]
  },
  {
   "cell_type": "markdown",
   "metadata": {},
   "source": [
    "## Test Cases\n",
    "\n",
    "* `get` no matching key -> KeyError exception\n",
    "* `get` matching key -> value\n",
    "* `set` no matching key -> new key, value\n",
    "* `set` matching key -> update value\n",
    "* `remove` no matching key -> KeyError exception\n",
    "* `remove` matching key -> remove key, value"
   ]
  },
  {
   "cell_type": "markdown",
   "metadata": {},
   "source": [
    "## Algorithm\n",
    "\n",
    "Refer to the [Solution Notebook](http://nbviewer.ipython.org/github/donnemartin/interactive-coding-challenges/blob/master/arrays_strings/hash_map/hash_map_solution.ipynb).  If you are stuck and need a hint, the solution notebook's algorithm discussion might be a good place to start."
   ]
  },
  {
   "cell_type": "markdown",
   "metadata": {},
   "source": [
    "## Code"
   ]
  },
  {
   "cell_type": "code",
   "execution_count": 26,
   "metadata": {},
   "outputs": [
    {
     "output_type": "stream",
     "name": "stdout",
     "text": [
      "foo3\nfoo\n"
     ]
    }
   ],
   "source": [
    "class Item(object):\n",
    "    def __init__(self, key, value):\n",
    "        self._key = key\n",
    "        self._value = value\n",
    "        self.next = None\n",
    "    \n",
    "    def add(self, key, value):\n",
    "        if key == self._key:\n",
    "            self._value = value\n",
    "            return\n",
    "\n",
    "        if self.next is None:\n",
    "            self.next = Item(key, value)\n",
    "            return\n",
    "        \n",
    "        next_item = self.next\n",
    "        while(next_item.next is not None):\n",
    "            if next_item._key == key:\n",
    "                next_item._value = value\n",
    "                return\n",
    "            next_item  = next_item.next\n",
    "        if next_item._key == key:\n",
    "            next_item._value = value\n",
    "            return\n",
    "        next_item.next = Item(key, value)\n",
    "    \n",
    "    def get(self, key):\n",
    "        if key == self._key:\n",
    "            return self._value\n",
    "        \n",
    "        next_item = self.next\n",
    "        while next_item is not None:\n",
    "            if key == next_item._key:\n",
    "                return next_item._value\n",
    "            next_item  = next_item.next\n",
    "        \n",
    "        raise KeyError(f\"Key {key} not found in linked list.\")\n",
    "\n",
    "    def remove(self, key):\n",
    "        if key == self._key:\n",
    "            return None\n",
    "        if self.next is None:\n",
    "            raise KeyError(f\"Key {key} not found in linked list. next is none\")\n",
    "\n",
    "        if key == self.next._key:\n",
    "            self.next = None\n",
    "            return\n",
    "        next_item = self.next\n",
    "        while next_item.next is not None:\n",
    "            if key == next_item.next._key:\n",
    "                next_item.next = None\n",
    "                return\n",
    "            next_item  = next_item.next\n",
    "        \n",
    "        raise KeyError(f\"Key {key} not found in linked list.\")\n",
    "\n",
    "class HashTable(object):\n",
    "\n",
    "    def __init__(self, size):\n",
    "        self.table = [None]*size\n",
    "\n",
    "    def _hash_function(self, key):\n",
    "        hk = hash(key)\n",
    "        idx = hk%len(self.table)\n",
    "        return idx\n",
    "\n",
    "    def set(self, key, value):\n",
    "        idx = self._hash_function(key)\n",
    "        if self.table[idx] is None:\n",
    "            self.table[idx] = Item(key, value)\n",
    "        else:\n",
    "            self.table[idx].add(key, value)\n",
    "\n",
    "\n",
    "    def get(self, key):\n",
    "        idx = self._hash_function(key)\n",
    "        if self.table[idx] is None:\n",
    "            raise KeyError(\"Key doesn't exist\")\n",
    "        return self.table[idx].get(key)\n",
    "\n",
    "    def remove(self, key):\n",
    "        idx = self._hash_function(key)\n",
    "        if self.table[idx] is None:\n",
    "            raise KeyError(\"Key doesn't exist\")\n",
    "        self.table[idx].remove(key)\n",
    "\n",
    "hash_table = HashTable(10)\n",
    "\n",
    "hash_table.set(0, 'foo')\n",
    "hash_table.set(1, 'bar')\n",
    "\n",
    "hash_table.set(10, 'foo2')\n",
    "hash_table.set(10, 'foo3')\n",
    "print(hash_table.get(10))\n",
    "hash_table.remove(10)\n",
    "print(hash_table.get(0))\n",
    "# print(hash_table.table)\n",
    "# self.assertEqual(hash_table.get(10), 'foo2')\n"
   ]
  },
  {
   "cell_type": "markdown",
   "metadata": {},
   "source": [
    "## Unit Test"
   ]
  },
  {
   "cell_type": "markdown",
   "metadata": {},
   "source": [
    "\n",
    "\n",
    "**The following unit test is expected to fail until you solve the challenge.**"
   ]
  },
  {
   "cell_type": "code",
   "execution_count": 27,
   "metadata": {},
   "outputs": [
    {
     "output_type": "stream",
     "name": "stdout",
     "text": [
      "Test: get on an empty hash table index\nTest: set on an empty hash table index\nTest: set on a non empty hash table index\nTest: set on a key that already exists\nTest: remove on a key that already exists\nTest: remove on a key that doesn't exist\nSuccess: test_end_to_end\n"
     ]
    }
   ],
   "source": [
    "# %load test_hash_map.py\n",
    "import unittest\n",
    "\n",
    "\n",
    "class TestHashMap(unittest.TestCase):\n",
    "    # TODO: It would be better if we had unit tests for each\n",
    "    # method in addition to the following end-to-end test\n",
    "    def test_end_to_end(self):\n",
    "        hash_table = HashTable(10)\n",
    "\n",
    "        print(\"Test: get on an empty hash table index\")\n",
    "        self.assertRaises(KeyError, hash_table.get, 0)\n",
    "\n",
    "        print(\"Test: set on an empty hash table index\")\n",
    "        hash_table.set(0, 'foo')\n",
    "        self.assertEqual(hash_table.get(0), 'foo')\n",
    "        hash_table.set(1, 'bar')\n",
    "        self.assertEqual(hash_table.get(1), 'bar')\n",
    "    \n",
    "        print(\"Test: set on a non empty hash table index\")\n",
    "        hash_table.set(10, 'foo2')\n",
    "        self.assertEqual(hash_table.get(0), 'foo')\n",
    "        self.assertEqual(hash_table.get(10), 'foo2')\n",
    "\n",
    "        print(\"Test: set on a key that already exists\")\n",
    "        hash_table.set(10, 'foo3')\n",
    "        self.assertEqual(hash_table.get(0), 'foo')\n",
    "        self.assertEqual(hash_table.get(10), 'foo3')\n",
    "\n",
    "        print(\"Test: remove on a key that already exists\")\n",
    "        hash_table.remove(10)\n",
    "        self.assertEqual(hash_table.get(0), 'foo')\n",
    "        self.assertRaises(KeyError, hash_table.get, 10)\n",
    "\n",
    "        print(\"Test: remove on a key that doesn't exist\")\n",
    "        self.assertRaises(KeyError, hash_table.remove, -1)\n",
    "\n",
    "        print('Success: test_end_to_end')\n",
    "\n",
    "\n",
    "def main():\n",
    "    test = TestHashMap()\n",
    "    test.test_end_to_end()\n",
    "\n",
    "\n",
    "if __name__ == '__main__':\n",
    "    main()"
   ]
  },
  {
   "cell_type": "markdown",
   "metadata": {},
   "source": [
    "## Solution Notebook\n",
    "\n",
    "Review the [Solution Notebook](http://nbviewer.ipython.org/github/donnemartin/interactive-coding-challenges/blob/master/arrays_strings/hash_map/hash_map_solution.ipynb) for a discussion on algorithms and code solutions."
   ]
  }
 ],
 "metadata": {
  "kernelspec": {
   "name": "python385jvsc74a57bd0916dbcbb3f70747c44a77c7bcd40155683ae19c65e1c03b4aa3499c5328201f1",
   "display_name": "Python 3.8.5 64-bit"
  },
  "language_info": {
   "codemirror_mode": {
    "name": "ipython",
    "version": 3
   },
   "file_extension": ".py",
   "mimetype": "text/x-python",
   "name": "python",
   "nbconvert_exporter": "python",
   "pygments_lexer": "ipython3",
   "version": "3.8.5"
  },
  "metadata": {
   "interpreter": {
    "hash": "916dbcbb3f70747c44a77c7bcd40155683ae19c65e1c03b4aa3499c5328201f1"
   }
  }
 },
 "nbformat": 4,
 "nbformat_minor": 1
}