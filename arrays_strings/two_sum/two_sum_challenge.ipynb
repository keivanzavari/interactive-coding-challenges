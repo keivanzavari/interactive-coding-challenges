{
 "cells": [
  {
   "cell_type": "markdown",
   "metadata": {},
   "source": [
    "This notebook was prepared by [Donne Martin](https://github.com/donnemartin). Source and license info is on [GitHub](https://github.com/donnemartin/interactive-coding-challenges)."
   ]
  },
  {
   "cell_type": "markdown",
   "metadata": {},
   "source": [
    "# Challenge Notebook"
   ]
  },
  {
   "cell_type": "markdown",
   "metadata": {},
   "source": [
    "## Problem: Given an array, find the two indices that sum to a specific value.\n",
    "\n",
    "* [Constraints](#Constraints)\n",
    "* [Test Cases](#Test-Cases)\n",
    "* [Algorithm](#Algorithm)\n",
    "* [Code](#Code)\n",
    "* [Unit Test](#Unit-Test)\n",
    "* [Solution Notebook](#Solution-Notebook)"
   ]
  },
  {
   "cell_type": "markdown",
   "metadata": {},
   "source": [
    "## Constraints\n",
    "\n",
    "* Is there exactly one solution?\n",
    "    * Yes\n",
    "* Is there always a solution?\n",
    "    * Yes\n",
    "* Is the array an array of ints?\n",
    "    * Yes\n",
    "* Is the array sorted?\n",
    "    No\n",
    "* Are negative values possible?\n",
    "    * Yes\n",
    "* Can we assume the inputs are valid?\n",
    "    * No\n",
    "* Can we assume this fits memory?\n",
    "    * Yes"
   ]
  },
  {
   "cell_type": "markdown",
   "metadata": {},
   "source": [
    "## Test Cases\n",
    "\n",
    "* None input -> TypeError\n",
    "* [] -> ValueError\n",
    "* [1, 3, 2, -7, 5], 7 -> [2, 4]"
   ]
  },
  {
   "cell_type": "markdown",
   "metadata": {},
   "source": [
    "## Algorithm\n",
    "\n",
    "Refer to the [Solution Notebook]().  If you are stuck and need a hint, the solution notebook's algorithm discussion might be a good place to start."
   ]
  },
  {
   "cell_type": "markdown",
   "metadata": {},
   "source": [
    "## Code"
   ]
  },
  {
   "cell_type": "code",
   "execution_count": 5,
   "metadata": {},
   "outputs": [],
   "source": [
    "class Solution(object):\n",
    "\n",
    "    def two_sum(self, nums, val):\n",
    "        # brute force: for each num is the complement also in the array? -> N^2\n",
    "        # if the list is sorted, we'll do sort -> Nlg(N) , look through N -> lookup lg(N) -> 2Nlg(N)\n",
    "        # use a dict for the value we have seen...as we loop through the array, add the values to a dict, for every value we come across, look up to see the complement is in the array. -> N is time & N in space\n",
    "        # we can eventually end up copying the entire array into the dict.\n",
    "        if nums is None or val is None:\n",
    "            raise TypeError(\"None value\")\n",
    "        if not nums:\n",
    "            raise ValueError(\"empty list\")\n",
    "        seen = {}\n",
    "        for idx, num in enumerate(nums):\n",
    "            if val-num in seen:\n",
    "                return [seen[val-num], idx]\n",
    "            seen[num] = idx\n",
    "        \n",
    "        "
   ]
  },
  {
   "cell_type": "markdown",
   "metadata": {},
   "source": [
    "## Unit Test"
   ]
  },
  {
   "cell_type": "markdown",
   "metadata": {},
   "source": [
    "**The following unit test is expected to fail until you solve the challenge.**"
   ]
  },
  {
   "cell_type": "code",
   "execution_count": 6,
   "metadata": {},
   "outputs": [
    {
     "output_type": "stream",
     "name": "stdout",
     "text": [
      "Success: test_two_sum\n"
     ]
    }
   ],
   "source": [
    "# %load test_two_sum.py\n",
    "import unittest\n",
    "\n",
    "\n",
    "class TestTwoSum(unittest.TestCase):\n",
    "\n",
    "    def test_two_sum(self):\n",
    "        solution = Solution()\n",
    "        self.assertRaises(TypeError, solution.two_sum, None, None)\n",
    "        self.assertRaises(ValueError, solution.two_sum, [], 0)\n",
    "        target = 7\n",
    "        nums = [1, 3, 2, -7, 5]\n",
    "        expected = [2, 4]\n",
    "        self.assertEqual(solution.two_sum(nums, target), expected)\n",
    "        print('Success: test_two_sum')\n",
    "\n",
    "\n",
    "def main():\n",
    "    test = TestTwoSum()\n",
    "    test.test_two_sum()\n",
    "\n",
    "\n",
    "if __name__ == '__main__':\n",
    "    main()"
   ]
  },
  {
   "cell_type": "markdown",
   "metadata": {},
   "source": [
    "## Solution Notebook\n",
    "\n",
    "Review the [Solution Notebook]() for a discussion on algorithms and code solutions."
   ]
  }
 ],
 "metadata": {
  "kernelspec": {
   "display_name": "Python 3",
   "language": "python",
   "name": "python3"
  },
  "language_info": {
   "codemirror_mode": {
    "name": "ipython",
    "version": 3
   },
   "file_extension": ".py",
   "mimetype": "text/x-python",
   "name": "python",
   "nbconvert_exporter": "python",
   "pygments_lexer": "ipython3",
   "version": "3.8.5"
  }
 },
 "nbformat": 4,
 "nbformat_minor": 1
}