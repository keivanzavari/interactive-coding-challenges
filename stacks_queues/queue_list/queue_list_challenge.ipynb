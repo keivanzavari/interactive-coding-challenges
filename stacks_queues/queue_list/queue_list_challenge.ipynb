{
 "cells": [
  {
   "cell_type": "markdown",
   "metadata": {},
   "source": [
    "This notebook was prepared by [Donne Martin](http://donnemartin.com). Source and license info is on [GitHub](https://github.com/donnemartin/interactive-coding-challenges)."
   ]
  },
  {
   "cell_type": "markdown",
   "metadata": {},
   "source": [
    "# Challenge Notebook"
   ]
  },
  {
   "cell_type": "markdown",
   "metadata": {},
   "source": [
    "## Problem: Implement a queue with enqueue and dequeue methods using a linked list.\n",
    "\n",
    "* [Constraints](#Constraints)\n",
    "* [Test Cases](#Test-Cases)\n",
    "* [Algorithm](#Algorithm)\n",
    "* [Code](#Code)\n",
    "* [Unit Test](#Unit-Test)\n",
    "* [Pythonic-Code](#Pythonic-Code)\n",
    "* [Solution Notebook](#Solution-Notebook)"
   ]
  },
  {
   "cell_type": "markdown",
   "metadata": {},
   "source": [
    "## Constraints\n",
    "\n",
    "* If there is one item in the list, do you expect the first and last pointers to both point to it?\n",
    "    * Yes\n",
    "* If there are no items on the list, do you expect the first and last pointers to be None?\n",
    "    * Yes\n",
    "* If you dequeue on an empty queue, does that return None?\n",
    "    * Yes\n",
    "* Can we assume this fits memory?\n",
    "    * Yes"
   ]
  },
  {
   "cell_type": "markdown",
   "metadata": {},
   "source": [
    "## Test Cases\n",
    "\n",
    "### Enqueue\n",
    "\n",
    "* Enqueue to an empty queue\n",
    "* Enqueue to a non-empty queue\n",
    "\n",
    "### Dequeue\n",
    "\n",
    "* Dequeue an empty queue -> None\n",
    "* Dequeue a queue with one element\n",
    "* Dequeue a queue with more than one element"
   ]
  },
  {
   "cell_type": "markdown",
   "metadata": {},
   "source": [
    "## Algorithm\n",
    "\n",
    "Refer to the [Solution Notebook](http://nbviewer.ipython.org/github/donnemartin/interactive-coding-challenges/blob/master/stacks_queues/queue_list/queue_list_solution.ipynb).  If you are stuck and need a hint, the solution notebook's algorithm discussion might be a good place to start."
   ]
  },
  {
   "cell_type": "markdown",
   "metadata": {},
   "source": [
    "## Code"
   ]
  },
  {
   "cell_type": "code",
   "execution_count": 3,
   "metadata": {},
   "outputs": [],
   "source": [
    "class Node(object):\n",
    "\n",
    "    def __init__(self, data):\n",
    "        self.data = data\n",
    "        self.next = None\n",
    "\n",
    "\n",
    "class Queue(object):\n",
    "\n",
    "    def __init__(self):\n",
    "        self.head = None\n",
    "        self.tail = None\n",
    "\n",
    "\n",
    "    def enqueue(self, data):\n",
    "        if self.head is None:\n",
    "            self.head = Node(data)\n",
    "            self.tail = self.head.next\n",
    "            return\n",
    "        \n",
    "        if self.tail is None:\n",
    "            self.tail = Node(data)\n",
    "            self.head.next = self.tail\n",
    "            return\n",
    "    \n",
    "        self.tail.next = Node(data)\n",
    "        self.tail = self.tail.next\n",
    "\n",
    "    def dequeue(self):\n",
    "        if self.head is None:\n",
    "            return None\n",
    "        curr = self.head\n",
    "        self.head = self.head.next\n",
    "        return curr.data"
   ]
  },
  {
   "cell_type": "markdown",
   "metadata": {},
   "source": [
    "## Unit Test\n",
    "\n",
    "\n",
    "\n",
    "**The following unit test is expected to fail until you solve the challenge.**"
   ]
  },
  {
   "cell_type": "code",
   "execution_count": 4,
   "metadata": {},
   "outputs": [
    {
     "output_type": "stream",
     "name": "stdout",
     "text": [
      "Test: Dequeue an empty queue\nTest: Enqueue to an empty queue\nTest: Dequeue a queue with one element\nTest: Enqueue to a non-empty queue\nTest: Dequeue a queue with more than one element\nSuccess: test_end_to_end\n"
     ]
    }
   ],
   "source": [
    "# %load test_queue_list.py\n",
    "import unittest\n",
    "\n",
    "\n",
    "class TestQueue(unittest.TestCase):\n",
    "\n",
    "    # TODO: It would be better if we had unit tests for each\n",
    "    # method in addition to the following end-to-end test\n",
    "    def test_end_to_end(self):\n",
    "        print('Test: Dequeue an empty queue')\n",
    "        queue = Queue()\n",
    "        self.assertEqual(queue.dequeue(), None)\n",
    "\n",
    "        print('Test: Enqueue to an empty queue')\n",
    "        queue.enqueue(1)\n",
    "\n",
    "        print('Test: Dequeue a queue with one element')\n",
    "        self.assertEqual(queue.dequeue(), 1)\n",
    "\n",
    "        print('Test: Enqueue to a non-empty queue')\n",
    "        queue.enqueue(2)\n",
    "        queue.enqueue(3)\n",
    "        queue.enqueue(4)\n",
    "\n",
    "        print('Test: Dequeue a queue with more than one element')\n",
    "        self.assertEqual(queue.dequeue(), 2)\n",
    "        self.assertEqual(queue.dequeue(), 3)\n",
    "        self.assertEqual(queue.dequeue(), 4)\n",
    "\n",
    "        print('Success: test_end_to_end')\n",
    "\n",
    "\n",
    "def main():\n",
    "    test = TestQueue()\n",
    "    test.test_end_to_end()\n",
    "\n",
    "\n",
    "if __name__ == '__main__':\n",
    "    main()"
   ]
  },
  {
   "cell_type": "markdown",
   "metadata": {},
   "source": [
    "## Solution Notebook\n",
    "\n",
    "Review the [Solution Notebook](http://nbviewer.ipython.org/github/donnemartin/interactive-coding-challenges/blob/master/stacks_queues/queue_list/queue_list_solution.ipynb) for a discussion on algorithms and code solutions."
   ]
  }
 ],
 "metadata": {
  "kernelspec": {
   "display_name": "Python 3",
   "language": "python",
   "name": "python3"
  },
  "language_info": {
   "codemirror_mode": {
    "name": "ipython",
    "version": 3
   },
   "file_extension": ".py",
   "mimetype": "text/x-python",
   "name": "python",
   "nbconvert_exporter": "python",
   "pygments_lexer": "ipython3",
   "version": "3.8.5"
  }
 },
 "nbformat": 4,
 "nbformat_minor": 1
}