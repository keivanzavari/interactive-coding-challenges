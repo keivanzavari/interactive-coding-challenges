{
 "cells": [
  {
   "cell_type": "markdown",
   "metadata": {},
   "source": [
    "This notebook was prepared by [Donne Martin](https://github.com/donnemartin). Source and license info is on [GitHub](https://github.com/donnemartin/interactive-coding-challenges)."
   ]
  },
  {
   "cell_type": "markdown",
   "metadata": {},
   "source": [
    "# Challenge Notebook"
   ]
  },
  {
   "cell_type": "markdown",
   "metadata": {},
   "source": [
    "## Problem: Find all permutations of an input string.\n",
    "\n",
    "* [Constraints](#Constraints)\n",
    "* [Test Cases](#Test-Cases)\n",
    "* [Algorithm](#Algorithm)\n",
    "* [Code](#Code)\n",
    "* [Unit Test](#Unit-Test)\n",
    "* [Solution Notebook](#Solution-Notebook)"
   ]
  },
  {
   "cell_type": "markdown",
   "metadata": {},
   "source": [
    "## Constraints\n",
    "\n",
    "* Can the input have duplicates?\n",
    "    * Yes\n",
    "* Can the output have duplicates?\n",
    "    * No\n",
    "* Is the output a list of strings?\n",
    "    * Yes\n",
    "* Do we have to output the results in sorted order?\n",
    "    * No\n",
    "* Can we assume the inputs are valid?\n",
    "    * No\n",
    "* Can we assume this fits memory?\n",
    "    * Yes"
   ]
  },
  {
   "cell_type": "markdown",
   "metadata": {},
   "source": [
    "## Test Cases\n",
    "\n",
    "<pre>\n",
    "* None -> None\n",
    "* '' -> ''\n",
    "* 'AABC' -> ['AABC', 'AACB', 'ABAC', 'ABCA',\n",
    "             'ACAB', 'ACBA', 'BAAC', 'BACA',\n",
    "             'BCAA', 'CAAB', 'CABA', 'CBAA']\n",
    "</pre>"
   ]
  },
  {
   "cell_type": "markdown",
   "metadata": {},
   "source": [
    "## Algorithm\n",
    "\n",
    "Refer to the [Solution Notebook]().  If you are stuck and need a hint, the solution notebook's algorithm discussion might be a good place to start."
   ]
  },
  {
   "cell_type": "markdown",
   "metadata": {},
   "source": [
    "## Code"
   ]
  },
  {
   "cell_type": "code",
   "execution_count": 13,
   "metadata": {},
   "outputs": [
    {
     "output_type": "stream",
     "name": "stdout",
     "text": [
      "['a', 'c', 'b'] True\n['b', 'a', 'c'] True\n['b', 'c', 'a'] True\n['a', 'b', 'c'] True\n['a', 'c', 'b'] True\n['b', 'a', 'c'] True\n['b', 'c', 'a'] True\n['a', 'b', 'c'] True\n['a', 'c', 'b'] True\n['b', 'a', 'c'] True\n"
     ]
    }
   ],
   "source": [
    "import itertools\n",
    "import sys\n",
    "class Permutations(object):\n",
    "    # start from the smallest lexicographical permutation. For \"CBA\" that is \"ABC\", for \"431\", it's \"134\".\n",
    "    # start from the back\n",
    "    # if you find a rising edge, all good, if you find a falling edge do this\n",
    "    # find the next larger element in the right side\n",
    "    # swap that with current element\n",
    "    # sort the right side i.e. reverse\n",
    "    # return the result\n",
    "    # this way you get all the next lexicographical permutation.\n",
    "    # [20 30 50 40 38 32]\n",
    "    # [20 30  |   50 40 38 32]\n",
    "    # [20 32  |   50 40 38 30]\n",
    "    # [20 32  |-> 30 38 40 50]\n",
    "    # If you go through all the vector without this, there are no more permutations left.\n",
    "    def find_next_largest(self, array: list, start, end) -> int:\n",
    "        min_element = array[start]\n",
    "        idx_min = start\n",
    "        for i in range(start, end):\n",
    "            if array[i] < min_element:\n",
    "                min_element = array[i]\n",
    "                idx_min = i\n",
    "        return idx_min\n",
    "\n",
    "    def get_next_permutation(self, string_as_list: list) -> tuple:\n",
    "        size = len(string_as_list)\n",
    "        for idx in range(size-1, 0, -1):\n",
    "            # idx_back = size - idx -1\n",
    "            if string_as_list[idx-1] < string_as_list[idx]:\n",
    "                idx_next_largest = self.find_next_largest(string_as_list, idx, size)\n",
    "                # print(f\"indices: {idx-1}, {idx_next_largest}\")\n",
    "                string_as_list[idx-1], string_as_list[idx_next_largest] = string_as_list[idx_next_largest], string_as_list[idx-1]\n",
    "                p = string_as_list[0: idx] + list(reversed(string_as_list[idx:]))\n",
    "                return (p, True)\n",
    "        return ([], False)\n",
    "        \n",
    "    def find_permutations(self, string):\n",
    "        string_as_list = sorted(string.split())\n",
    "        permutation_exist = True\n",
    "        res = []\n",
    "        while permutation_exist:\n",
    "            p, permutation_exist = self.get_next_permutation(string_as_list)\n",
    "            if permutation_exist:\n",
    "                res.append(p)\n",
    "        return res\n",
    "\n",
    "    def find_permutations_iter(self, string):\n",
    "        if string is None:\n",
    "            return None\n",
    "        if not string:\n",
    "            return \"\"\n",
    "        p = []\n",
    "        for i in itertools.permutations(string):\n",
    "            res = \"\".join(i)\n",
    "            if res not in p:\n",
    "                p.append(res)\n",
    "        return p\n",
    "p = Permutations()\n",
    "string = [\"a\",\"b\",\"c\"]\n",
    "for i in range(10):\n",
    "    new_str, res = p.get_next_permutation(string)\n",
    "    print(new_str, res)\n",
    "    string = new_str\n",
    "# p.find_permutations(\"AABC\")"
   ]
  },
  {
   "cell_type": "markdown",
   "metadata": {},
   "source": [
    "## Unit Test"
   ]
  },
  {
   "cell_type": "markdown",
   "metadata": {},
   "source": [
    "**The following unit test is expected to fail until you solve the challenge.**"
   ]
  },
  {
   "cell_type": "code",
   "execution_count": 12,
   "metadata": {},
   "outputs": [
    {
     "output_type": "stream",
     "name": "stdout",
     "text": [
      "Success: test_permutations\n"
     ]
    }
   ],
   "source": [
    "# %load test_permutations.py\n",
    "import unittest\n",
    "\n",
    "\n",
    "class TestPermutations(unittest.TestCase):\n",
    "\n",
    "    def test_permutations(self):\n",
    "        permutations = Permutations()\n",
    "        self.assertEqual(permutations.find_permutations(None), None)\n",
    "        self.assertEqual(permutations.find_permutations(''), '')\n",
    "        string = 'AABC'\n",
    "        expected = [\n",
    "            'AABC', 'AACB', 'ABAC', 'ABCA',\n",
    "            'ACAB', 'ACBA', 'BAAC', 'BACA',\n",
    "            'BCAA', 'CAAB', 'CABA', 'CBAA'\n",
    "        ]\n",
    "        self.assertCountEqual(permutations.find_permutations(string), expected)\n",
    "        print('Success: test_permutations')\n",
    "\n",
    "\n",
    "def main():\n",
    "    test = TestPermutations()\n",
    "    test.test_permutations()\n",
    "\n",
    "\n",
    "if __name__ == '__main__':\n",
    "    main()"
   ]
  },
  {
   "cell_type": "markdown",
   "metadata": {},
   "source": [
    "## Solution Notebook\n",
    "\n",
    "Review the [Solution Notebook]() for a discussion on algorithms and code solutions."
   ]
  }
 ],
 "metadata": {
  "kernelspec": {
   "display_name": "Python 3",
   "language": "python",
   "name": "python3"
  },
  "language_info": {
   "codemirror_mode": {
    "name": "ipython",
    "version": 3
   },
   "file_extension": ".py",
   "mimetype": "text/x-python",
   "name": "python",
   "nbconvert_exporter": "python",
   "pygments_lexer": "ipython3",
   "version": "3.6.9"
  }
 },
 "nbformat": 4,
 "nbformat_minor": 1
}